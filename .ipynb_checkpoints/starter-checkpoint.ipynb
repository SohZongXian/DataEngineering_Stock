{
 "cells": [
  {
   "cell_type": "code",
   "execution_count": 1,
   "id": "dd25358c",
   "metadata": {},
   "outputs": [],
   "source": [
    "import boto3\n",
    "import pandas as pd\n",
    "from io import StringIO, BytesIO\n",
    "from datetime import datetime, timedelta"
   ]
  },
  {
   "cell_type": "code",
   "execution_count": 2,
   "id": "952270a8",
   "metadata": {},
   "outputs": [],
   "source": [
    "arg_date = '2021-05-07'\n",
    "src_format = '%Y-%m-%d'\n",
    "src_bucket = 'deutsche-boerse-xetra-pds'\n",
    "trg_bucket = 'parsed-xetra-1'\n",
    "columns = ['ISIN','Date','Time','StartPrice','MaxPrice', 'MinPrice', 'EndPrice', 'TradedVolume']\n",
    "key = 'xetra_daily_report_' + datetime.today().strftime(\"%Y%m%d_%H%M%S\") + '.parquet'"
   ]
  },
  {
   "cell_type": "code",
   "execution_count": null,
   "id": "56268c2d",
   "metadata": {},
   "outputs": [],
   "source": [
    "arg_date_dt= datetime.strptime(arg_date, src_format).date() - timedelta(days = 1)"
   ]
  },
  {
   "cell_type": "code",
   "execution_count": null,
   "id": "5c5b8a2e",
   "metadata": {},
   "outputs": [],
   "source": [
    "arg_date_dt"
   ]
  },
  {
   "cell_type": "code",
   "execution_count": 4,
   "id": "71fff469",
   "metadata": {},
   "outputs": [],
   "source": [
    "s3 = boto3.resource('s3')\n",
    "bucket = s3.Bucket(src_bucket)"
   ]
  },
  {
   "cell_type": "code",
   "execution_count": null,
   "id": "72406122",
   "metadata": {},
   "outputs": [],
   "source": [
    "objects = [obj for obj in bucket.objects.all() if datetime.strptime(obj.key.split('/')[0], src_format).date() >= arg_date_dt]"
   ]
  },
  {
   "cell_type": "code",
   "execution_count": null,
   "id": "cf6c4447",
   "metadata": {},
   "outputs": [],
   "source": [
    "objects"
   ]
  },
  {
   "cell_type": "code",
   "execution_count": null,
   "id": "5ac7907e",
   "metadata": {},
   "outputs": [],
   "source": [
    "csv_object_init = bucket.Object(key=objects[0].key).get().get('Body').read().decode('utf-8')\n",
    "data = StringIO(csv_object_init)\n",
    "df_init = pd.read_csv(data, delimiter=',')"
   ]
  },
  {
   "cell_type": "code",
   "execution_count": null,
   "id": "59edebbe",
   "metadata": {},
   "outputs": [],
   "source": [
    "df_init.columns"
   ]
  },
  {
   "cell_type": "code",
   "execution_count": null,
   "id": "72e714eb",
   "metadata": {},
   "outputs": [],
   "source": [
    "def csv_to_df(filename):\n",
    "    csv_object = bucket.Object(key=filename).get().get('Body').read().decode('utf-8')\n",
    "    data = StringIO(csv_object)\n",
    "    df = pd.read_csv(data, delimiter=',')\n",
    "    return df\n",
    "\n",
    "df_all = df.concat([csv_to_df(obj.key) for obj in objects], ignore_index = True)"
   ]
  },
  {
   "cell_type": "code",
   "execution_count": null,
   "id": "4191ed18",
   "metadata": {},
   "outputs": [],
   "source": [
    "df_all"
   ]
  },
  {
   "cell_type": "code",
   "execution_count": null,
   "id": "1e8829e4",
   "metadata": {},
   "outputs": [],
   "source": [
    "df_all = df_all.loc[:,columns]"
   ]
  },
  {
   "cell_type": "code",
   "execution_count": null,
   "id": "19d62923",
   "metadata": {},
   "outputs": [],
   "source": [
    "df_all.dropna(inplace = True)"
   ]
  },
  {
   "cell_type": "code",
   "execution_count": null,
   "id": "9c1e5af6",
   "metadata": {},
   "outputs": [],
   "source": [
    "df_all.shape"
   ]
  },
  {
   "cell_type": "markdown",
   "id": "5651b554",
   "metadata": {},
   "source": [
    "# Get opening price and closing price per ISIN and day"
   ]
  },
  {
   "cell_type": "code",
   "execution_count": null,
   "id": "a30d257b",
   "metadata": {},
   "outputs": [],
   "source": [
    "df_all['Opening_price'] = df_all.sort_values(by=['Time']).groupby(['ISIN','Date'])['StartPrice'].transform('first')\n"
   ]
  },
  {
   "cell_type": "code",
   "execution_count": null,
   "id": "0c9de4f7",
   "metadata": {},
   "outputs": [],
   "source": [
    "df_all['Closing_price'] = df_all.sort_values(by=['Time']).groupby(['ISIN','Date'])['EndPrice'].transform('first')"
   ]
  },
  {
   "cell_type": "code",
   "execution_count": null,
   "id": "14e55303",
   "metadata": {},
   "outputs": [],
   "source": [
    "df_all"
   ]
  },
  {
   "cell_type": "markdown",
   "id": "98d955fe",
   "metadata": {},
   "source": [
    "# Aggregations"
   ]
  },
  {
   "cell_type": "code",
   "execution_count": null,
   "id": "7747cc9c",
   "metadata": {},
   "outputs": [],
   "source": [
    "df_all = df_all.groupby(['ISIN','Date'], as_index=False).agg(opening_price_eur=('Opening_price','min'),closing_price_eur=('Closing_price','min'), minimum_price_eur=('MinPrice','min'),maximum_price_eur=('MaxPrice','max'), daily_traded_volume = ('TradedVolume','sum'))"
   ]
  },
  {
   "cell_type": "code",
   "execution_count": null,
   "id": "89ed881a",
   "metadata": {},
   "outputs": [],
   "source": [
    "df_all"
   ]
  },
  {
   "cell_type": "markdown",
   "id": "8bd32827",
   "metadata": {},
   "source": [
    "# Percent Change Prev Closing"
   ]
  },
  {
   "cell_type": "code",
   "execution_count": null,
   "id": "2d16a4b9",
   "metadata": {},
   "outputs": [],
   "source": [
    "df_all['prev_closing_price'] = df_all.sort_values(by=['Date']).groupby(['ISIN'])['closing_price_eur'].shift(1)"
   ]
  },
  {
   "cell_type": "code",
   "execution_count": null,
   "id": "f860cd97",
   "metadata": {},
   "outputs": [],
   "source": [
    "df_all"
   ]
  },
  {
   "cell_type": "code",
   "execution_count": null,
   "id": "edba0571",
   "metadata": {},
   "outputs": [],
   "source": [
    "df_all['change_prev_closing_%'] = (df_all['closing_price_eur'] - df_all['prev_closing_price']) / df_all['prev_closing_price'] *100 "
   ]
  },
  {
   "cell_type": "code",
   "execution_count": null,
   "id": "e42da1a1",
   "metadata": {},
   "outputs": [],
   "source": [
    "df_all"
   ]
  },
  {
   "cell_type": "code",
   "execution_count": null,
   "id": "46b523c3",
   "metadata": {},
   "outputs": [],
   "source": [
    "df_all.drop(columns = ['prev_closing_price'], inplace= True)"
   ]
  },
  {
   "cell_type": "code",
   "execution_count": null,
   "id": "0f3cca6a",
   "metadata": {},
   "outputs": [],
   "source": [
    "df_all = df_all.round(decimals=2)"
   ]
  },
  {
   "cell_type": "code",
   "execution_count": null,
   "id": "588f5b00",
   "metadata": {},
   "outputs": [],
   "source": [
    "df_all = df_all[df_all.Date >= arg_date]"
   ]
  },
  {
   "cell_type": "code",
   "execution_count": null,
   "id": "f88ed671",
   "metadata": {},
   "outputs": [],
   "source": [
    "df_all"
   ]
  },
  {
   "cell_type": "markdown",
   "id": "04d44562",
   "metadata": {},
   "source": [
    "# Write to S3\n"
   ]
  },
  {
   "cell_type": "code",
   "execution_count": null,
   "id": "5e39b1f0",
   "metadata": {},
   "outputs": [],
   "source": [
    "out_buffer = BytesIO()\n",
    "df_all.to_parquet(out_buffer, index=False)\n",
    "bucket_target = s3.Bucket(trg_bucket)\n",
    "bucket_target.put_object(Body=out_buffer.getvalue(), Key=key)"
   ]
  },
  {
   "cell_type": "markdown",
   "id": "71ec21b0",
   "metadata": {},
   "source": [
    "# Reading the uploaded file"
   ]
  },
  {
   "cell_type": "code",
   "execution_count": 5,
   "id": "c341c0a9",
   "metadata": {},
   "outputs": [],
   "source": [
    "bucket = s3.Bucket(src_bucket)\n",
    "bucket_target = s3.Bucket(trg_bucket)"
   ]
  },
  {
   "cell_type": "code",
   "execution_count": 6,
   "id": "d7856e02",
   "metadata": {},
   "outputs": [
    {
     "name": "stdout",
     "output_type": "stream",
     "text": [
      "xetra_daily_report_20210803_220637.parquet\n"
     ]
    }
   ],
   "source": [
    "for obj in bucket_target.objects.all():\n",
    "    print(obj.key)"
   ]
  },
  {
   "cell_type": "code",
   "execution_count": 7,
   "id": "37f6f600",
   "metadata": {},
   "outputs": [],
   "source": [
    "prq_obj = bucket_target.Object(key='xetra_daily_report_20210803_220637.parquet').get().get('Body').read()\n",
    "data = BytesIO(prq_obj)\n",
    "df_report = pd.read_parquet(data)"
   ]
  },
  {
   "cell_type": "code",
   "execution_count": 8,
   "id": "58777fb7",
   "metadata": {},
   "outputs": [
    {
     "data": {
      "text/html": [
       "<div>\n",
       "<style scoped>\n",
       "    .dataframe tbody tr th:only-of-type {\n",
       "        vertical-align: middle;\n",
       "    }\n",
       "\n",
       "    .dataframe tbody tr th {\n",
       "        vertical-align: top;\n",
       "    }\n",
       "\n",
       "    .dataframe thead th {\n",
       "        text-align: right;\n",
       "    }\n",
       "</style>\n",
       "<table border=\"1\" class=\"dataframe\">\n",
       "  <thead>\n",
       "    <tr style=\"text-align: right;\">\n",
       "      <th></th>\n",
       "      <th>ISIN</th>\n",
       "      <th>Date</th>\n",
       "      <th>opening_price_eur</th>\n",
       "      <th>closing_price_eur</th>\n",
       "      <th>minimum_price_eur</th>\n",
       "      <th>maximum_price_eur</th>\n",
       "      <th>daily_traded_volume</th>\n",
       "      <th>change_prev_closing_%</th>\n",
       "    </tr>\n",
       "  </thead>\n",
       "  <tbody>\n",
       "    <tr>\n",
       "      <th>0</th>\n",
       "      <td>AT00000FACC2</td>\n",
       "      <td>2021-05-07</td>\n",
       "      <td>8.86</td>\n",
       "      <td>8.86</td>\n",
       "      <td>8.84</td>\n",
       "      <td>9.00</td>\n",
       "      <td>547</td>\n",
       "      <td>-0.23</td>\n",
       "    </tr>\n",
       "    <tr>\n",
       "      <th>1</th>\n",
       "      <td>AT00000FACC2</td>\n",
       "      <td>2021-05-10</td>\n",
       "      <td>9.10</td>\n",
       "      <td>9.10</td>\n",
       "      <td>8.94</td>\n",
       "      <td>9.10</td>\n",
       "      <td>145</td>\n",
       "      <td>2.71</td>\n",
       "    </tr>\n",
       "    <tr>\n",
       "      <th>2</th>\n",
       "      <td>AT00000FACC2</td>\n",
       "      <td>2021-05-11</td>\n",
       "      <td>8.85</td>\n",
       "      <td>8.85</td>\n",
       "      <td>8.82</td>\n",
       "      <td>8.85</td>\n",
       "      <td>304</td>\n",
       "      <td>-2.75</td>\n",
       "    </tr>\n",
       "    <tr>\n",
       "      <th>3</th>\n",
       "      <td>AT00000FACC2</td>\n",
       "      <td>2021-05-12</td>\n",
       "      <td>8.82</td>\n",
       "      <td>8.82</td>\n",
       "      <td>8.82</td>\n",
       "      <td>8.86</td>\n",
       "      <td>12</td>\n",
       "      <td>-0.34</td>\n",
       "    </tr>\n",
       "    <tr>\n",
       "      <th>4</th>\n",
       "      <td>AT00000FACC2</td>\n",
       "      <td>2021-05-13</td>\n",
       "      <td>8.84</td>\n",
       "      <td>8.84</td>\n",
       "      <td>8.79</td>\n",
       "      <td>8.95</td>\n",
       "      <td>1885</td>\n",
       "      <td>0.23</td>\n",
       "    </tr>\n",
       "    <tr>\n",
       "      <th>...</th>\n",
       "      <td>...</td>\n",
       "      <td>...</td>\n",
       "      <td>...</td>\n",
       "      <td>...</td>\n",
       "      <td>...</td>\n",
       "      <td>...</td>\n",
       "      <td>...</td>\n",
       "      <td>...</td>\n",
       "    </tr>\n",
       "    <tr>\n",
       "      <th>183570</th>\n",
       "      <td>XS2284324667</td>\n",
       "      <td>2021-07-28</td>\n",
       "      <td>29.88</td>\n",
       "      <td>29.88</td>\n",
       "      <td>29.86</td>\n",
       "      <td>30.10</td>\n",
       "      <td>4364</td>\n",
       "      <td>-0.07</td>\n",
       "    </tr>\n",
       "    <tr>\n",
       "      <th>183571</th>\n",
       "      <td>XS2284324667</td>\n",
       "      <td>2021-07-29</td>\n",
       "      <td>30.13</td>\n",
       "      <td>30.13</td>\n",
       "      <td>30.04</td>\n",
       "      <td>30.40</td>\n",
       "      <td>3266</td>\n",
       "      <td>0.83</td>\n",
       "    </tr>\n",
       "    <tr>\n",
       "      <th>183572</th>\n",
       "      <td>XS2284324667</td>\n",
       "      <td>2021-07-30</td>\n",
       "      <td>30.34</td>\n",
       "      <td>30.34</td>\n",
       "      <td>30.34</td>\n",
       "      <td>30.41</td>\n",
       "      <td>5659</td>\n",
       "      <td>0.70</td>\n",
       "    </tr>\n",
       "    <tr>\n",
       "      <th>183573</th>\n",
       "      <td>XS2284324667</td>\n",
       "      <td>2021-08-02</td>\n",
       "      <td>30.40</td>\n",
       "      <td>30.40</td>\n",
       "      <td>29.89</td>\n",
       "      <td>30.42</td>\n",
       "      <td>1221</td>\n",
       "      <td>0.20</td>\n",
       "    </tr>\n",
       "    <tr>\n",
       "      <th>183574</th>\n",
       "      <td>XS2284324667</td>\n",
       "      <td>2021-08-03</td>\n",
       "      <td>29.86</td>\n",
       "      <td>29.86</td>\n",
       "      <td>29.65</td>\n",
       "      <td>30.00</td>\n",
       "      <td>1600</td>\n",
       "      <td>-1.80</td>\n",
       "    </tr>\n",
       "  </tbody>\n",
       "</table>\n",
       "<p>183575 rows × 8 columns</p>\n",
       "</div>"
      ],
      "text/plain": [
       "                ISIN        Date  opening_price_eur  closing_price_eur  \\\n",
       "0       AT00000FACC2  2021-05-07               8.86               8.86   \n",
       "1       AT00000FACC2  2021-05-10               9.10               9.10   \n",
       "2       AT00000FACC2  2021-05-11               8.85               8.85   \n",
       "3       AT00000FACC2  2021-05-12               8.82               8.82   \n",
       "4       AT00000FACC2  2021-05-13               8.84               8.84   \n",
       "...              ...         ...                ...                ...   \n",
       "183570  XS2284324667  2021-07-28              29.88              29.88   \n",
       "183571  XS2284324667  2021-07-29              30.13              30.13   \n",
       "183572  XS2284324667  2021-07-30              30.34              30.34   \n",
       "183573  XS2284324667  2021-08-02              30.40              30.40   \n",
       "183574  XS2284324667  2021-08-03              29.86              29.86   \n",
       "\n",
       "        minimum_price_eur  maximum_price_eur  daily_traded_volume  \\\n",
       "0                    8.84               9.00                  547   \n",
       "1                    8.94               9.10                  145   \n",
       "2                    8.82               8.85                  304   \n",
       "3                    8.82               8.86                   12   \n",
       "4                    8.79               8.95                 1885   \n",
       "...                   ...                ...                  ...   \n",
       "183570              29.86              30.10                 4364   \n",
       "183571              30.04              30.40                 3266   \n",
       "183572              30.34              30.41                 5659   \n",
       "183573              29.89              30.42                 1221   \n",
       "183574              29.65              30.00                 1600   \n",
       "\n",
       "        change_prev_closing_%  \n",
       "0                       -0.23  \n",
       "1                        2.71  \n",
       "2                       -2.75  \n",
       "3                       -0.34  \n",
       "4                        0.23  \n",
       "...                       ...  \n",
       "183570                  -0.07  \n",
       "183571                   0.83  \n",
       "183572                   0.70  \n",
       "183573                   0.20  \n",
       "183574                  -1.80  \n",
       "\n",
       "[183575 rows x 8 columns]"
      ]
     },
     "execution_count": 8,
     "metadata": {},
     "output_type": "execute_result"
    }
   ],
   "source": [
    "df_report"
   ]
  },
  {
   "cell_type": "code",
   "execution_count": null,
   "id": "7cd6aa43",
   "metadata": {},
   "outputs": [],
   "source": []
  }
 ],
 "metadata": {
  "kernelspec": {
   "display_name": "Python 3 (ipykernel)",
   "language": "python",
   "name": "python3"
  },
  "language_info": {
   "codemirror_mode": {
    "name": "ipython",
    "version": 3
   },
   "file_extension": ".py",
   "mimetype": "text/x-python",
   "name": "python",
   "nbconvert_exporter": "python",
   "pygments_lexer": "ipython3",
   "version": "3.9.6"
  }
 },
 "nbformat": 4,
 "nbformat_minor": 5
}
